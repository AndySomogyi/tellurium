{
  "cells": [
    {
      "cell_type": "markdown",
      "source": [
        "### How to install additional packages\n",
        "\nIf you are using Tellurium notebook or Tellurium Spyder, you can install additional package using ``installPackage`` function. In Tellurium Spyder, you can also install packages using included command Prompt. For more information, see [Running Command Prompt for Tellurium Spyder](https://tellurium.readthedocs.io/en/latest/walkthrough.html#running-command-prompt-for-tellurium-spyder)."
      ],
      "metadata": {}
    },
    {
      "cell_type": "code",
      "source": [
        "import tellurium as te\n",
        "# install cobra (https://github.com/opencobra/cobrapy)\n",
        "te.installPackage('cobra')\n",
        "# update cobra to latest version\n",
        "te.upgradePackage('cobra')\n",
        "# remove cobra\n",
        "# te.removePackage('cobra')"
      ],
      "outputs": [],
      "execution_count": 1,
      "metadata": {
        "collapsed": false,
        "outputHidden": false,
        "inputHidden": false
      }
    }
  ],
  "metadata": {
    "kernelspec": {
      "name": "python3",
      "language": "python",
      "display_name": "Python 3 (built-in)"
    },
    "kernel_info": {
      "name": "python3"
    },
    "language_info": {
      "name": "python",
      "version": "3.6.2",
      "mimetype": "text/x-python",
      "codemirror_mode": {
        "name": "ipython",
        "version": 3
      },
      "pygments_lexer": "ipython3",
      "nbconvert_exporter": "python",
      "file_extension": ".py"
    }
  },
  "nbformat": 4,
  "nbformat_minor": 4
}