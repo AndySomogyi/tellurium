{
  "cells": [
    {
      "cell_type": "markdown",
      "source": [
        "Back to the main [Index](../index.ipynb)"
      ],
      "metadata": {}
    },
    {
      "cell_type": "markdown",
      "source": [
        "#### Examples of 1D Parameter Scan\n",
        "Below is a `plotPolyArray()` example."
      ],
      "metadata": {}
    },
    {
      "cell_type": "code",
      "source": [
        "%matplotlib inline\n",
        "from __future__ import print_function\n",
        "import tellurium as te\n",
        "\n",
        "r = te.loada('''\n",
        "    J1: $Xo -> x; 0.1 + k1*x^4/(k2+x^4);\n",
        "    x -> $w; k3*x;\n",
        "\n",
        "    k1 = 0.9;\n",
        "    k2 = 0.3;\n",
        "    k3 = 0.7;\n",
        "    x = 0;\n",
        "''')\n",
        "\n",
        "# parameter scan\n",
        "p = te.ParameterScan(r,\n",
        "    # settings\n",
        "    startTime = 0,\n",
        "    endTime = 15,\n",
        "    numberOfPoints = 50,\n",
        "    polyNumber = 10,\n",
        "    endValue = 1.8,\n",
        "    alpha = 0.8,\n",
        "    value = \"x\",\n",
        "    selection = \"x\",\n",
        "    color = ['#0F0F3D', '#141452', '#1A1A66', '#1F1F7A', '#24248F', '#2929A3',\n",
        "               '#2E2EB8', '#3333CC', '#4747D1', '#5C5CD6']                    \n",
        ")\n",
        "# plot\n",
        "p.plotPolyArray()"
      ],
      "outputs": [],
      "execution_count": 1,
      "metadata": {
        "collapsed": false
      }
    },
    {
      "cell_type": "markdown",
      "source": [
        "Below is a `plotSurface()` example."
      ],
      "metadata": {}
    },
    {
      "cell_type": "code",
      "source": [
        "r = te.loada('''\n",
        "    $Xo -> S1; vo;\n",
        "    S1 -> S2; k1*S1 - k2*S2;\n",
        "    S2 -> $X1; k3*S2;\n",
        "    \n",
        "    vo = 1\n",
        "    k1 = 2; k2 = 0; k3 = 3;\n",
        "''')\n",
        "\n",
        "# parameter scan\n",
        "p = te.ParameterScan(r,\n",
        "    # settings\n",
        "    startTime = 0,\n",
        "    endTime = 6,\n",
        "    numberOfPoints = 50,\n",
        "    startValue = 1,\n",
        "    endValue = 5,\n",
        "    colormap = \"cool\",\n",
        "    independent = [\"Time\", \"k1\"],\n",
        "    dependent = \"S1\",\n",
        "    xlabel = \"Time\",\n",
        "    ylabel = \"x\",\n",
        "    title = \"Model\"                                  \n",
        ")\n",
        "# plot\n",
        "p.plotSurface()"
      ],
      "outputs": [],
      "execution_count": 3,
      "metadata": {
        "collapsed": false
      }
    }
  ],
  "metadata": {
    "kernelspec": {
      "name": "python3",
      "language": "python",
      "display_name": "Python 3 (built-in)"
    },
    "language_info": {
      "name": "python",
      "version": "3.6.2",
      "mimetype": "text/x-python",
      "codemirror_mode": {
        "name": "ipython",
        "version": 3
      },
      "pygments_lexer": "ipython3",
      "nbconvert_exporter": "python",
      "file_extension": ".py"
    },
    "kernel_info": {
      "name": "python3"
    }
  },
  "nbformat": 4,
  "nbformat_minor": 0
}