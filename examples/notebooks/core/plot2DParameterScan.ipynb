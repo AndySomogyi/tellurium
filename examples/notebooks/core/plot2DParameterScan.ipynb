{
  "cells": [
    {
      "cell_type": "markdown",
      "source": [
        "#### Examples of 2D Parameter Scan\n",
        "Below is a `plot2DParameterScan()` example."
      ],
      "metadata": {}
    },
    {
      "cell_type": "code",
      "source": [
        "%matplotlib inline\n",
        "import warnings\n",
        "warnings.filterwarnings(\"ignore\")\n",
        "\n",
        "import tellurium as te\n",
        "from tellurium.analysis.parameterscan import plot2DParameterScan\n",
        "\n",
        "# model definitions\n",
        "r = te.loada(\"\"\"\n",
        "model test\n",
        "   J0: S1 -> S2; Vmax * (S1/(Km+S1))\n",
        "    S1 = 10; S2 = 0;\n",
        "    Vmax = 1; Km = 0.5;\n",
        "end\n",
        "\"\"\")\n",
        "s = r.simulate(0, 20, 41)\n",
        "r.plot(s)\n",
        "\n",
        "import numpy as np\n",
        "plot2DParameterScan(r,\n",
        "                    p1='Vmax', p1Range=np.linspace(1, 10, num=5),\n",
        "                    p2='Vmax', p2Range=np.linspace(0.1, 1.0, num=5),\n",
        "                    start=0, end=50, points=101)"
      ],
      "outputs": [],
      "execution_count": 1,
      "metadata": {
        "collapsed": false
      }
    }
  ],
  "metadata": {
    "kernelspec": {
      "name": "python3",
      "language": "python",
      "display_name": "Python 3 (built-in)"
    },
    "language_info": {
      "name": "python",
      "version": "3.6.2",
      "mimetype": "text/x-python",
      "codemirror_mode": {
        "name": "ipython",
        "version": 3
      },
      "pygments_lexer": "ipython3",
      "nbconvert_exporter": "python",
      "file_extension": ".py"
    },
    "kernel_info": {
      "name": "python3"
    }
  },
  "nbformat": 4,
  "nbformat_minor": 0
}