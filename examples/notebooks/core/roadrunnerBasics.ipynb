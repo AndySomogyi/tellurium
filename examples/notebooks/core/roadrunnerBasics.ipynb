{
  "cells": [
    {
      "cell_type": "markdown",
      "source": [
        "Back to the main [Index](../index.ipynb)"
      ],
      "metadata": {}
    },
    {
      "cell_type": "markdown",
      "source": [
        "### Model Loading\n",
        "\n",
        "To load models use any the following functions. Each function takes a model with the corresponding format and converts it to a [RoadRunner](http://sys-bio.github.io/roadrunner/python_docs/index.html) simulator instance.\n",
        "\n",
        "* `te.loadAntimony` (`te.loada`): Load an Antimony model.\n",
        "* `te.loadSBML`: Load an SBML model.\n",
        "* `te.loadCellML`: Load a CellML model (this passes the model through Antimony and converts it to SBML, may be lossy)."
      ],
      "metadata": {}
    },
    {
      "cell_type": "code",
      "source": [
        "from __future__ import print_function\n",
        "import tellurium as te\n",
        "te.setDefaultPlottingEngine('matplotlib')\n",
        "%matplotlib inline\n",
        "\n",
        "model = \"\"\"\n",
        "model test\n",
        "    compartment C1;\n",
        "    C1 = 1.0;\n",
        "    species S1, S2;\n",
        "    \n",
        "    S1 = 10.0;\n",
        "    S2 = 0.0;\n",
        "    S1 in C1; S2 in C1;\n",
        "    J1: S1 -> S2; k1*S1;\n",
        "    \n",
        "    k1 = 1.0;\n",
        "end\n",
        "\"\"\"\n",
        "# load models\n",
        "r = te.loada(model)"
      ],
      "outputs": [],
      "execution_count": 1,
      "metadata": {
        "collapsed": false
      }
    },
    {
      "cell_type": "markdown",
      "source": [
        "### Running Simulations\n",
        "\nSimulating a model in roadrunner is as simple as calling the `simulate` function on the RoadRunner instance `r`. The simulate acceps three positional arguments: start time, end time, and number of points. The simulate function also accepts the keyword arguments `selections`, which is a list of variables to include in the output, and `steps`, which is the number of integration time steps and can be specified instead of number of points."
      ],
      "metadata": {}
    },
    {
      "cell_type": "code",
      "source": [
        "# simulate from 0 to 50 with 100 steps\n",
        "r.simulate(0, 50, 100)\n",
        "# plot the simulation\n",
        "r.plot()"
      ],
      "outputs": [],
      "execution_count": 2,
      "metadata": {
        "collapsed": false,
        "outputHidden": false,
        "inputHidden": false
      }
    },
    {
      "cell_type": "markdown",
      "source": [
        "### Integrator and Integrator Settings\n",
        "To set the integrator use `r.setIntegrator(<integrator-name>)` or `r.integrator = <integrator-name>`. RoadRunner supports `'cvode'`, `'gillespie'`, and `'rk4'` for the integrator name. CVODE uses adaptive stepping internally, regardless of whether the output is gridded or not. The size of these internal steps is controlled by the tolerances, both absolute and relative.\n",
        "\n",
        "To set integrator settings use `r.integrator.<setting-name> = <value>` or `r.integrator.setValue(<setting-name>, <value>)`. Here are some important settings for the `cvode` integrator:\n",
        "\n",
        "* `variable_step_size`: Adaptive step-size integration (`True`/`False`).\n",
        "* `stiff`: Stiff solver for CVODE only (`True`/`False`). Enabled by default.\n",
        "* `absolute_tolerance`: Absolute numerical tolerance for integrator internal stepping.\n",
        "* `relative_tolerance`: Relative numerical tolerance for integrator internal stepping.\n",
        "\n",
        "Settings for the `gillespie` integrator:\n",
        "\n* `seed`: The RNG seed for the Gillespie method. You can set this before running a simulation, or leave it alone for a different seed each time. Simulations initialized with the same seed will have the same results."
      ],
      "metadata": {}
    },
    {
      "cell_type": "code",
      "source": [
        "# what is the current integrator?\n",
        "print('The current integrator is:')\n",
        "print(r.integrator)\n",
        "\n",
        "# enable variable stepping\n",
        "r.integrator.variable_step_size = True\n",
        "# adjust the tolerances (can set directly or via setValue)\n",
        "r.integrator.absolute_tolerance = 1e-3 # set directly via property\n",
        "r.integrator.setValue('relative_tolerance', 1e-1) # set via a call to setValue\n",
        "\n",
        "# run a simulation, stop after reaching or passing time 10\n",
        "r.reset()\n",
        "results = r.simulate(0, 10)\n",
        "r.plot()\n",
        "\n",
        "# print the time values from the simulation\n",
        "print('Time values:')\n",
        "print(results[:,0])"
      ],
      "outputs": [],
      "execution_count": 3,
      "metadata": {
        "collapsed": false,
        "outputHidden": false,
        "inputHidden": false
      }
    },
    {
      "cell_type": "code",
      "source": [
        "# set integrator to Gillespie solver\n",
        "r.setIntegrator('gillespie')\n",
        "# identical ways to set integrator\n",
        "r.setIntegrator('rk4')\n",
        "r.integrator = 'rk4'\n",
        "# set back to cvode (the default)\n",
        "r.setIntegrator('cvode')\n",
        "\n",
        "# set integrator settings\n",
        "r.integrator.setValue('variable_step_size', False)\n",
        "r.integrator.setValue('stiff', True)\n",
        "\n",
        "# print integrator settings\n",
        "print(r.integrator)"
      ],
      "outputs": [],
      "execution_count": 4,
      "metadata": {
        "collapsed": false
      }
    },
    {
      "cell_type": "markdown",
      "source": [
        "### Simulation options\n",
        "\n",
        "The `RoadRunner.simulate` method is responsible for running simulations using the current integrator. It accepts the following arguments:\n",
        "\n",
        "* `start`: Start time.\n",
        "* `end`: End time.\n",
        "* `points`: Number of points in solution (exclusive with steps, do not pass both). If the output is gridded, the points will be evenly spaced in time. If not, the simulation will stop when it reaches the `end` time or the number of points, whichever happens first.\n",
        "* `steps`: Number of steps in solution (exclusive with points, do not pass both).\n",
        "\n"
      ],
      "metadata": {}
    },
    {
      "cell_type": "code",
      "source": [
        "# simulate from 0 to 6 with 6 points in the result\n",
        "r.reset()\n",
        "# pass args explicitly via keywords\n",
        "res1 = r.simulate(start=0, end=10, points=6)\n",
        "print(res1)\n",
        "r.reset()\n",
        "# use positional args to pass start, end, num. points\n",
        "res2 = r.simulate(0, 10, 6)\n",
        "print(res2)"
      ],
      "outputs": [],
      "execution_count": 5,
      "metadata": {
        "collapsed": false
      }
    },
    {
      "cell_type": "markdown",
      "source": [
        "### Selections\n",
        "\nThe selections list can be used to set which state variables will appear in the output array. By default, it includes all SBML species and the `time` variable. Selections can be either given as argument to `r.simulate`."
      ],
      "metadata": {}
    },
    {
      "cell_type": "code",
      "source": [
        "print('Floating species in model:')\n",
        "print(r.getFloatingSpeciesIds())\n",
        "# provide selections to simulate\n",
        "print(r.simulate(0,10,6, selections=r.getFloatingSpeciesIds()))\n",
        "r.resetAll()\n",
        "# try different selections\n",
        "print(r.simulate(0,10,6, selections=['time','J1']))"
      ],
      "outputs": [],
      "execution_count": 6,
      "metadata": {
        "collapsed": false
      }
    },
    {
      "cell_type": "markdown",
      "source": [
        "### Reset model variables\n",
        "To reset the model's state variables use the `r.reset()` and `r.reset(SelectionRecord.*)` functions. If you have made modifications to parameter values, use the `r.resetAll()` function to reset parameters to their initial values when the model was loaded."
      ],
      "metadata": {}
    },
    {
      "cell_type": "code",
      "source": [
        "# show the current values\n",
        "for s in ['S1', 'S2']:\n",
        "    print('r.{} == {}'.format(s, r[s]))\n",
        "# reset initial concentrations\n",
        "r.reset()\n",
        "print('reset')\n",
        "# S1 and S2 have now again the initial values\n",
        "for s in ['S1', 'S2']:\n",
        "    print('r.{} == {}'.format(s, r[s]))\n",
        "# change a parameter value\n",
        "print('r.k1 before = {}'.format(r.k1))\n",
        "r.k1 = 0.1\n",
        "print('r.k1 after = {}'.format(r.k1))\n",
        "# reset parameters\n",
        "r.resetAll()\n",
        "print('r.k1 after resetAll = {}'.format(r.k1))"
      ],
      "outputs": [],
      "execution_count": 7,
      "metadata": {
        "collapsed": false
      }
    }
  ],
  "metadata": {
    "kernelspec": {
      "name": "python3",
      "language": "python",
      "display_name": "Python 3 (built-in)"
    },
    "language_info": {
      "name": "python",
      "version": "3.6.2",
      "mimetype": "text/x-python",
      "codemirror_mode": {
        "name": "ipython",
        "version": 3
      },
      "pygments_lexer": "ipython3",
      "nbconvert_exporter": "python",
      "file_extension": ".py"
    },
    "kernel_info": {
      "name": "python3"
    }
  },
  "nbformat": 4,
  "nbformat_minor": 0
}