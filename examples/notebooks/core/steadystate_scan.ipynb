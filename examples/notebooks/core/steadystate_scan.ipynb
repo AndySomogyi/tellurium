{
  "cells": [
    {
      "cell_type": "markdown",
      "source": [
        "Back to the main [Index](../index.ipynb)"
      ],
      "metadata": {}
    },
    {
      "cell_type": "markdown",
      "source": [
        "### Steady state scan\n",
        "`te.ParameterScan.SteadyStateScan` scans the steady state."
      ],
      "metadata": {}
    },
    {
      "cell_type": "code",
      "source": [
        "%matplotlib inline\n",
        "import tellurium as te\n",
        "\n",
        "r = te.loada('''\n",
        "    $Xo -> S1; vo;\n",
        "    S1 -> S2; k1*S1 - k2*S2;\n",
        "    S2 -> $X1; k3*S2;\n",
        "    \n",
        "    vo = 1\n",
        "    k1 = 2; k2 = 0; k3 = 3;\n",
        "''')\n",
        "\n",
        "p = te.SteadyStateScan(r,\n",
        "    value = 'k3',\n",
        "    startValue = 2,\n",
        "    endValue = 3,\n",
        "    numberOfPoints = 20,\n",
        "    selection = ['S1', 'S2']                      \n",
        ")\n",
        "p.plotArray()\n",
        "result = p.collect_plotArray_result()"
      ],
      "outputs": [],
      "execution_count": 2,
      "metadata": {
        "collapsed": false
      }
    }
  ],
  "metadata": {
    "kernelspec": {
      "name": "python3",
      "language": "python",
      "display_name": "Python 3 (built-in)"
    },
    "language_info": {
      "name": "python",
      "version": "3.6.2",
      "mimetype": "text/x-python",
      "codemirror_mode": {
        "name": "ipython",
        "version": 3
      },
      "pygments_lexer": "ipython3",
      "nbconvert_exporter": "python",
      "file_extension": ".py"
    },
    "kernel_info": {
      "name": "python3"
    }
  },
  "nbformat": 4,
  "nbformat_minor": 0
}