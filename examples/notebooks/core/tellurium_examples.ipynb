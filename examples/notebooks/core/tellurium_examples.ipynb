{
  "cells": [
    {
      "cell_type": "markdown",
      "source": [
        "### Preliminaries\n",
        "\n",
        "In order to draw the network graphs in these examples (i.e. using ``r.draw()``), you will need graphviz and pygraphviz installed. Please consult the Graphviz documentation for instructions on installing it on your platform. If you cannot install Graphviz and pygraphviz, you can still run the following examples, but the network diagrams will not be generated.\n",
        "\nAlso, due to limitations in pygraphviz, these examples can only be run in the Jupyter notebook, not the [Tellurium notebook app](http://tellurium.readthedocs.io/en/latest/installation.html#front-end-1-tellurium-notebook)."
      ],
      "metadata": {}
    },
    {
      "cell_type": "markdown",
      "source": [
        "#### Install pygraphviz (requires compilation)\n",
        "Please run \n",
        "\n",
        "`<your-local-python-executable> -m pip install pygraphviz` \n",
        "\n",
        "from a terminal or command prompt to install pygraphviz. Then restart your kernel in this notebook (Language->Restart Running Kernel).\n",
        "\n",
        "#### Troubleshooting Graphviz Installation\n",
        "\n",
        "pygraphviz has [known problems](https://github.com/pygraphviz/pygraphviz/issues/72) during installation on some platforms. On 64-bit Fedora Linux, we have been able to use the following command to install pygraphviz:\n",
        "\n",
        "```bash\n",
        "/path/to/python3 -m pip install pygraphviz --install-option=\"--include-path=/usr/include/graphviz\" --install-option=\"--library-path=/usr/lib64/graphviz/\"\n",
        "```\n",
        "\n",
        "You may need to modify the library/include paths in the above command. Some Linux distributions put 64-bit libraries in `/usr/lib` instead of `/usr/lib64`, in which case the command becomes:\n",
        "\n",
        "```bash\n",
        "/path/to/python3 -m pip install pygraphviz --install-option=\"--include-path=/usr/include/graphviz\" --install-option=\"--library-path=/usr/lib/graphviz/\"\n",
        "```"
      ],
      "metadata": {
        "collapsed": false,
        "inputHidden": false,
        "outputHidden": false
      }
    },
    {
      "cell_type": "markdown",
      "source": [
        "## Case Studies\n",
        "\n### Activator system"
      ],
      "metadata": {}
    },
    {
      "cell_type": "code",
      "source": [
        "import warnings\n",
        "warnings.filterwarnings(\"ignore\")\n",
        "\n",
        "import tellurium as te\n",
        "te.setDefaultPlottingEngine('matplotlib')\n",
        "%matplotlib inline\n",
        "\n",
        "# model Definition\n",
        "r = te.loada ('''\n",
        "        #J1: S1 -> S2; Activator*kcat1*S1/(Km1+S1);\n",
        "        J1: S1 -> S2; SE2*kcat1*S1/(Km1+S1);\n",
        "        J2: S2 -> S1; Vm2*S2/(Km2+S2);\n",
        "        \n",
        "        J3: T1 -> T2; S2*kcat3*T1/(Km3+T1);\n",
        "        J4: T2 -> T1; Vm4*T2/(Km4+T2);\n",
        "        \n",
        "        J5:    -> E2; Vf5/(Ks5+T2^h5);\n",
        "        J6:    -> E3; Vf6*T2^h6/(Ks6+T2^h6);\n",
        "        \n",
        "        #J7:    -> E1;\n",
        "        J8:    ->  S; kcat8*E1\n",
        "        \n",
        "        J9: E2 ->   ; k9*E2;\n",
        "        J10:E3 ->   ; k10*E3;\n",
        "        \n",
        "        J11: S -> SE2; E2*kcat11*S/(Km11+S);\n",
        "        J12: S -> SE3; E3*kcat12*S/(Km12+S);\n",
        "        \n",
        "        J13: SE2 ->  ; SE2*kcat13; \n",
        "        J14: SE3 ->  ; SE3*kcat14; \n",
        "        \n",
        "        Km1 = 0.01; Km2 = 0.01; Km3 = 0.01; Km4 = 0.01; Km11 = 1; Km12 = 0.1;\n",
        "        S1 = 6; S2 =0.1; T1=6; T2 = 0.1;\n",
        "        SE2 = 0; SE3=0;\n",
        "        S=0;\n",
        "        E2 = 0; E3 = 0;\n",
        "        kcat1 = 0.1; kcat3 = 3; kcat8 =1; kcat11 = 1; kcat12 = 1; kcat13 = 0.1; kcat14=0.1;\n",
        "        E1 = 1;\n",
        "        k9 = 0.1; k10=0.1;\n",
        "        Vf6 = 1;\n",
        "        Vf5 = 3;\n",
        "        Vm2 = 0.1;\n",
        "        Vm4 = 2;\n",
        "        h6 = 2; h5=2;\n",
        "        Ks6 = 1; Ks5 = 1;\n",
        "        Activator = 0;\n",
        "\n",
        "        at (time > 100): Activator = 5;  \n",
        "''')\n",
        "r.draw(width=300)\n",
        "result = r.simulate (0, 300, 2000, ['time', 'J11', 'J12']);\n",
        "r.plot(result);"
      ],
      "outputs": [],
      "execution_count": 1,
      "metadata": {
        "collapsed": false
      }
    },
    {
      "cell_type": "markdown",
      "source": [
        "### Feedback oscillations"
      ],
      "metadata": {
        "collapsed": true
      }
    },
    {
      "cell_type": "code",
      "source": [
        "# http://tellurium.analogmachine.org/testing/\n",
        "import tellurium as te\n",
        "r = te.loada ('''\n",
        "model feedback()\n",
        "   // Reactions:\n",
        "   J0: $X0 -> S1; (VM1 * (X0 - S1/Keq1))/(1 + X0 + S1 +   S4^h);\n",
        "   J1: S1 -> S2; (10 * S1 - 2 * S2) / (1 + S1 + S2);\n",
        "   J2: S2 -> S3; (10 * S2 - 2 * S3) / (1 + S2 + S3);\n",
        "   J3: S3 -> S4; (10 * S3 - 2 * S4) / (1 + S3 + S4);\n",
        "   J4: S4 -> $X1; (V4 * S4) / (KS4 + S4);\n",
        "\n",
        "  // Species initializations:\n",
        "  S1 = 0; S2 = 0; S3 = 0;\n",
        "  S4 = 0; X0 = 10; X1 = 0;\n",
        "\n",
        "  // Variable initialization:\n",
        "  VM1 = 10; Keq1 = 10; h = 10; V4 = 2.5; KS4 = 0.5;\n",
        "end''')\n",
        "\n",
        "r.integrator.setValue('variable_step_size', True)\n",
        "res = r.simulate(0, 40)\n",
        "r.plot()"
      ],
      "outputs": [],
      "execution_count": 2,
      "metadata": {
        "collapsed": false
      }
    },
    {
      "cell_type": "markdown",
      "source": [
        "### Bistable System\n",
        "Example showing how to to multiple time course simulations, merging the data and plotting it onto one platting surface. Alternative is to use setHold()\n",
        "\nModel is a bistable system, simulations start with different initial conditions resulting in different steady states reached."
      ],
      "metadata": {}
    },
    {
      "cell_type": "code",
      "source": [
        "import tellurium as te\n",
        "import numpy as np\n",
        "\n",
        "r = te.loada ('''\n",
        "$Xo -> S1; 1 + Xo*(32+(S1/0.75)^3.2)/(1 +(S1/4.3)^3.2);\n",
        "S1 -> $X1; k1*S1;\n",
        "\n",
        "Xo = 0.09; X1 = 0.0;\n",
        "S1 = 0.5; k1 = 3.2;\n",
        "''')\n",
        "print(r.selections)\n",
        "\n",
        "initValue = 0.05\n",
        "m = r.simulate (0, 4, 100, selections=[\"time\", \"S1\"])\n",
        "\n",
        "for i in range (0,12):\n",
        "    r.reset()\n",
        "    r['[S1]'] = initValue\n",
        "    res = r.simulate (0, 4, 100, selections=[\"S1\"])\n",
        "    m = np.concatenate([m, res], axis=1)\n",
        "    initValue += 1\n",
        "\n",
        "te.plotArray(m, color=\"black\", alpha=0.7, loc=None, \n",
        "             xlabel=\"time\", ylabel=\"[S1]\", title=\"Bistable system\");"
      ],
      "outputs": [],
      "execution_count": 3,
      "metadata": {
        "collapsed": false
      }
    },
    {
      "cell_type": "markdown",
      "source": [
        "### Events"
      ],
      "metadata": {}
    },
    {
      "cell_type": "code",
      "source": [
        "import tellurium as te\n",
        "import matplotlib.pyplot as plt\n",
        "\n",
        "# Example showing use of events and how to set the y axis limits\n",
        "r = te.loada ('''\n",
        "  $Xo -> S;   Xo/(km + S^h);\n",
        "  S -> $w;  k1*S;       \n",
        "\n",
        "     # initialize\n",
        "     h = 1;   # Hill coefficient\n",
        "     k1 = 1;  km = 0.1;\n",
        "     S = 1.5; Xo = 2\n",
        "     \n",
        "     at (time > 10): Xo = 5;\n",
        "     at (time > 20): Xo = 2;\n",
        "''')\n",
        "\n",
        "m1 = r.simulate (0, 30, 200, ['time', 'Xo', 'S'])\n",
        "r.plot(ylim=(0,10))"
      ],
      "outputs": [],
      "execution_count": 2,
      "metadata": {
        "collapsed": false,
        "scrolled": true
      }
    },
    {
      "cell_type": "markdown",
      "source": [
        "### Gene network"
      ],
      "metadata": {}
    },
    {
      "cell_type": "code",
      "source": [
        "import tellurium as te\n",
        "import numpy\n",
        "\n",
        "# Model desribes a cascade of two genes. First gene is activated\n",
        "# second gene is repressed. Uses events to change the input \n",
        "# to the gene regulatory network\n",
        "\n",
        "r = te.loada ('''\n",
        "    v1:  -> P1; Vm1*I^4/(Km1 + I^4);\n",
        "    v2:  P1 -> ; k1*P1;\n",
        "    v3:  -> P2;  Vm2/(Km2 + P1^4);\n",
        "    v4:  P2 -> ; k2*P2;\n",
        "    \n",
        "    at (time > 60): I = 10;\n",
        "    at (time > 100): I = 0.01;\n",
        "    Vm1  = 5; Vm2 = 6; Km1 = 0.5; Km2 = 0.4;\n",
        "    k1 = 0.1; k2 = 0.1;\n",
        "    I = 0.01;\n",
        "''')\n",
        "\n",
        "result = r.simulate (0, 200, 100)\n",
        "r.plot()"
      ],
      "outputs": [],
      "execution_count": 4,
      "metadata": {
        "collapsed": false,
        "scrolled": true
      }
    },
    {
      "cell_type": "markdown",
      "source": [
        "### Stoichiometric matrix"
      ],
      "metadata": {}
    },
    {
      "cell_type": "code",
      "source": [
        "import tellurium as te\n",
        "\n",
        "# Example of using antimony to create a stoichiometry matrix \n",
        "r = te.loada('''\n",
        " J1: -> S1; v1;\n",
        " J2: S1 -> S2; v2;\n",
        " J3: S2 -> ; v3;\n",
        " J4: S3 -> S1; v4;\n",
        " J5: S3 -> S2; v5;\n",
        " J6: -> S3; v6;\n",
        " \n",
        " v1=1; v2=1; v3=1; v4=1; v5=1; v6=1;\n",
        "''')\n",
        "\n",
        "print(r.getFullStoichiometryMatrix())\n",
        "r.draw()"
      ],
      "outputs": [],
      "execution_count": 5,
      "metadata": {
        "collapsed": false
      }
    },
    {
      "cell_type": "markdown",
      "source": [
        "### Lorenz attractor\n",
        "Example showing how to describe a model using ODES. Example implements the Lorenz attractor."
      ],
      "metadata": {}
    },
    {
      "cell_type": "code",
      "source": [
        "import tellurium as te\n",
        "\n",
        "r = te.loada ('''\n",
        "     x' = sigma*(y - x);\n",
        "     y' = x*(rho - z) - y;\n",
        "     z' = x*y - beta*z;\n",
        "\n",
        "     x = 0.96259;  y = 2.07272;  z = 18.65888;\n",
        "\n",
        "     sigma = 10;  rho = 28; beta = 2.67;\n",
        "''')\n",
        "\n",
        "result = r.simulate (0, 20, 1000, ['time', 'x', 'y', 'z'])\n",
        "r.plot()"
      ],
      "outputs": [],
      "execution_count": 6,
      "metadata": {
        "collapsed": false
      }
    },
    {
      "cell_type": "markdown",
      "source": [
        "### Time Course Parameter Scan\n",
        "Do 5 simulations on a simple model, for each simulation a parameter, `k1` is changed. The script merges the data together and plots the merged array on to one plot."
      ],
      "metadata": {}
    },
    {
      "cell_type": "code",
      "source": [
        "import tellurium as te\n",
        "import numpy as np\n",
        "\n",
        "r = te.loada ('''\n",
        "    J1: $X0 -> S1; k1*X0;\n",
        "    J2: S1 -> $X1; k2*S1;\n",
        "\n",
        "    X0 = 1.0; S1 = 0.0; X1 = 0.0;\n",
        "    k1 = 0.4; k2 = 2.3;\n",
        "''')  \n",
        "  \n",
        "  \n",
        "m = r.simulate (0, 4, 100, [\"Time\", \"S1\"])\n",
        "for i in range (0,4):\n",
        "    r.k1 = r.k1 + 0.1 \n",
        "    r.reset()\n",
        "    m = np.hstack([m, r.simulate(0, 4, 100, ['S1'])])\n",
        "\n",
        "# use plotArray to plot merged data\n",
        "te.plotArray(m)\n",
        "pass"
      ],
      "outputs": [],
      "execution_count": 7,
      "metadata": {
        "collapsed": false
      }
    },
    {
      "cell_type": "markdown",
      "source": [
        "### Merge multiple simulations\n",
        "Example of merging multiple simulations. In between simulations a parameter is changed."
      ],
      "metadata": {}
    },
    {
      "cell_type": "code",
      "source": [
        "import tellurium as te\n",
        "import numpy\n",
        "\n",
        "r = te.loada ('''\n",
        "    # Model Definition\n",
        "    v1: $Xo -> S1;  k1*Xo;\n",
        "    v2: S1 -> $w;   k2*S1;\n",
        "\n",
        "    # Initialize constants \n",
        "    k1 = 1; k2 = 1; S1 = 15; Xo = 1;\n",
        "''')\n",
        "\n",
        "# Time course simulation\n",
        "m1 = r.simulate (0, 15, 100, [\"Time\",\"S1\"]);\n",
        "r.k1 = r.k1 * 6;\n",
        "m2 = r.simulate (15, 40, 100, [\"Time\",\"S1\"]);\n",
        "r.k1 = r.k1 / 6;\n",
        "m3 = r.simulate (40, 60, 100, [\"Time\",\"S1\"]);\n",
        "\n",
        "m = numpy.vstack([m1, m2, m3])\n",
        "p = te.plot(m[:,0], m[:,1], name='trace1')"
      ],
      "outputs": [],
      "execution_count": 5,
      "metadata": {
        "collapsed": false
      }
    },
    {
      "cell_type": "markdown",
      "source": [
        "### Relaxation oscillator\n",
        "Oscillator that uses positive and negative feedback. An example of a relaxation oscillator."
      ],
      "metadata": {}
    },
    {
      "cell_type": "code",
      "source": [
        "import tellurium as te\n",
        "\n",
        "r = te.loada ('''\n",
        "  v1: $Xo -> S1; k1*Xo;\n",
        "  v2:  S1 -> S2; k2*S1*S2^h/(10 + S2^h) + k3*S1;\n",
        "  v3:  S2 -> $w; k4*S2;      \n",
        "\n",
        "  # Initialize\n",
        "  h  = 2; # Hill coefficient\n",
        "  k1 = 1; k2 = 2; Xo = 1;\n",
        "  k3 = 0.02; k4 = 1;\n",
        "''')\n",
        "\n",
        "result = r.simulate(0, 100, 100)\n",
        "r.plot(result);"
      ],
      "outputs": [],
      "execution_count": 6,
      "metadata": {
        "collapsed": false
      }
    },
    {
      "cell_type": "markdown",
      "source": [
        "### Scan hill coefficient\n",
        "Negative Feedback model where we scan over the value of the Hill coefficient."
      ],
      "metadata": {}
    },
    {
      "cell_type": "code",
      "source": [
        "import tellurium as te\n",
        "import numpy as np\n",
        "\n",
        "r = te.loada ('''\n",
        "  // Reactions:\n",
        "  J0: $X0 => S1; (J0_VM1*(X0 - S1/J0_Keq1))/(1 + X0 + S1 + S4^J0_h);\n",
        "  J1: S1 => S2; (10*S1 - 2*S2)/(1 + S1 + S2);\n",
        "  J2: S2 => S3; (10*S2 - 2*S3)/(1 + S2 + S3);\n",
        "  J3: S3 => S4; (10*S3 - 2*S4)/(1 + S3 + S4);\n",
        "  J4: S4 => $X1; (J4_V4*S4)/(J4_KS4 + S4);\n",
        "\n",
        "  // Species initializations:\n",
        "  S1 = 0;\n",
        "  S2 = 0;\n",
        "  S3 = 0;\n",
        "  S4 = 0;\n",
        "  X0 = 10;\n",
        "  X1 = 0;\n",
        "\n",
        "  // Variable initializations:\n",
        "  J0_VM1 = 10;\n",
        "  J0_Keq1 = 10;\n",
        "  J0_h = 2;\n",
        "  J4_V4 = 2.5;\n",
        "  J4_KS4 = 0.5;\n",
        "\n",
        "  // Other declarations:\n",
        "  const J0_VM1, J0_Keq1, J0_h, J4_V4, J4_KS4;\n",
        "''')\n",
        "\n",
        "# time vector\n",
        "result = r.simulate (0, 20, 201, ['time'])\n",
        "\n",
        "h_values = [r.J0_h + k for k in range(0,8)]\n",
        "for h in h_values:\n",
        "    r.reset()\n",
        "    r.J0_h = h\n",
        "    m = r.simulate(0, 20, 201, ['S1'])\n",
        "    result = numpy.hstack([result, m])\n",
        "    \n",
        "te.plotArray(result, labels=['h={}'.format(int(h)) for h in h_values])\n",
        "pass"
      ],
      "outputs": [],
      "execution_count": 7,
      "metadata": {
        "collapsed": false
      }
    },
    {
      "cell_type": "markdown",
      "source": [
        "### Compare simulations"
      ],
      "metadata": {}
    },
    {
      "cell_type": "code",
      "source": [
        "import tellurium as te\n",
        "\n",
        "r = te.loada ('''\n",
        "     v1: $Xo -> S1;  k1*Xo;\n",
        "     v2: S1 -> $w;   k2*S1;\n",
        "\n",
        "     //initialize.  Deterministic process.\n",
        "     k1 = 1; k2 = 1; S1 = 20; Xo = 1;\n",
        "''')\n",
        "\n",
        "m1 = r.simulate (0,20,100);\n",
        "\n",
        "# Stochastic process\n",
        "r.resetToOrigin()\n",
        "r.setSeed(1234)\n",
        "m2 = r.gillespie(0, 20, 100, ['time', 'S1'])\n",
        "\n",
        "# plot all the results together\n",
        "te.plotArray(m1, color=\"black\", show=False)\n",
        "te.plotArray(m2, color=\"blue\");"
      ],
      "outputs": [],
      "execution_count": 8,
      "metadata": {
        "collapsed": false
      }
    },
    {
      "cell_type": "markdown",
      "source": [
        "### Sinus injection\n",
        "Example that show how to inject a sinusoidal into the model and use events to switch it off and on."
      ],
      "metadata": {}
    },
    {
      "cell_type": "code",
      "source": [
        "import tellurium as te\n",
        "import numpy\n",
        "\n",
        "r = te.loada ('''\n",
        "    # Inject sin wave into model    \n",
        "    Xo := sin (time*0.5)*switch + 2;    \n",
        "    \n",
        "    # Model Definition\n",
        "    v1: $Xo -> S1;  k1*Xo;\n",
        "    v2: S1 -> S2;   k2*S1;\n",
        "    v3: S2 -> $X1;  k3*S2;\n",
        "\n",
        "    at (time > 40): switch = 1;\n",
        "    at (time > 80): switch = 0.5;\n",
        "    \n",
        "    # Initialize constants \n",
        "    k1 = 1; k2 = 1; k3 = 3; S1 = 3; \n",
        "    S2 = 0; \n",
        "    switch = 0;\n",
        "''')\n",
        "\n",
        "result = r.simulate (0, 100, 200, ['time', 'S1', 'S2'])\n",
        "r.plot(result);"
      ],
      "outputs": [],
      "execution_count": 9,
      "metadata": {
        "collapsed": false
      }
    },
    {
      "cell_type": "markdown",
      "source": [
        "### Protein phosphorylation cycle\n",
        "Simple protein phosphorylation cycle. Steady state concentation of the phosphorylated protein is plotted as a funtion of the cycle kinase. In addition, the plot is repeated for various values of Km."
      ],
      "metadata": {}
    },
    {
      "cell_type": "code",
      "source": [
        "import tellurium as te\n",
        "import numpy as np\n",
        "\n",
        "r = te.loada ('''\n",
        "   S1 -> S2; k1*S1/(Km1 + S1);\n",
        "   S2 -> S1; k2*S2/(Km2 + S2);\n",
        "   \n",
        "   k1 = 0.1; k2 = 0.4; S1 = 10; S2 = 0;\n",
        "   Km1 = 0.1; Km2 = 0.1;  \n",
        "''')\n",
        "\n",
        "for i in range (1,8):\n",
        "  numbers = np.linspace (0, 1.2, 200)\n",
        "  result = np.empty ([0,2])\n",
        "  for value in numbers:\n",
        "      r.k1 = value\n",
        "      r.steadyState()\n",
        "      row = np.array ([value, r.S2])\n",
        "      result = np.vstack ((result, row))\n",
        "  te.plotArray(result, show=False, labels=['Km1={}'.format(r.Km1)],\n",
        "               resetColorCycle=False,\n",
        "               xlabel='k1', ylabel=\"S2\", \n",
        "               title=\"Steady State S2 for different Km1 & Km2\",\n",
        "               ylim=[-0.1, 11], grid=True)\n",
        "  r.k1 = 0.1\n",
        "  r.Km1 = r.Km1 + 0.5;\n",
        "  r.Km2 = r.Km2 + 0.5;"
      ],
      "outputs": [],
      "execution_count": 10,
      "metadata": {
        "collapsed": false
      }
    }
  ],
  "metadata": {
    "kernel_info": {
      "name": "python3"
    },
    "kernelspec": {
      "name": "python3",
      "language": "python",
      "display_name": "Python 3 (built-in)"
    },
    "language_info": {
      "name": "python",
      "version": "3.6.2",
      "mimetype": "text/x-python",
      "codemirror_mode": {
        "name": "ipython",
        "version": 3
      },
      "pygments_lexer": "ipython3",
      "nbconvert_exporter": "python",
      "file_extension": ".py"
    }
  },
  "nbformat": 4,
  "nbformat_minor": 0
}