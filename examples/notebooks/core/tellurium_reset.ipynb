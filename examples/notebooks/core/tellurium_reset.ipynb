{
  "cells": [
    {
      "cell_type": "markdown",
      "source": [
        "Back to the main [Index](../index.ipynb)"
      ],
      "metadata": {}
    },
    {
      "cell_type": "markdown",
      "source": [
        "#### Reset model values\n",
        "\nThe `reset` function of a [RoadRunner](https://libroadrunner.readthedocs.io/en/latest/api_reference.html?highlight=reset#RoadRunner.RoadRunner.reset) instance reset the system variables (usually species concentrations) to their respective initial values. `resetAll` resets variables to their CURRENT initial as well as resets parameters. `resetToOrigin` completely resets the model."
      ],
      "metadata": {}
    },
    {
      "cell_type": "code",
      "source": [
        "from __future__ import print_function\n",
        "import tellurium as te\n",
        "te.setDefaultPlottingEngine('matplotlib')\n",
        "%matplotlib inline\n",
        "\n",
        "r = te.loada ('S1 -> S2; k1*S1; k1 = 0.1; S1 = 10')\n",
        "r.integrator.setValue('variable_step_size', True)\n",
        "\n",
        "# simulate model\n",
        "sim1 = r.simulate(0, 5)\n",
        "print('*** sim1 ***')\n",
        "r.plot(sim1)\n",
        "\n",
        "# continue from end concentration of sim1\n",
        "r.k1 = 2.0\n",
        "sim2 = r.simulate(0, 5)\n",
        "print('-- sim2 --')\n",
        "print('continue simulation from final concentrations with changed parameter')\n",
        "r.plot(sim2)\n",
        "\n",
        "# Reset initial concentrations, does not affect the changed parameter\n",
        "r.reset()\n",
        "sim3 = r.simulate(0, 5)\n",
        "print('-- sim3 --')\n",
        "print('reset initial concentrations but keep changed parameter')\n",
        "r.plot(sim3)\n",
        "\n",
        "# Change CURRENT initial of k1, resetAll clears parameter but \n",
        "# resets to CURRENT initial\n",
        "r.setValue('init(k1)', 0.3)\n",
        "r.resetAll()\n",
        "sim4 = r.simulate(0, 5)\n",
        "print('-- sim4 --')\n",
        "print('reset to CURRENT initial of k1, reset to initial parameters')\n",
        "print('k1 = ' + str(r.k1))\n",
        "r.plot(sim4)\n",
        "\n",
        "# Reset model to the state it was loaded\n",
        "r.resetToOrigin()\n",
        "sim5 = r.simulate(0, 5)\n",
        "print('-- sim5 --')\n",
        "print('reset all to origin')\n",
        "r.plot(sim5);"
      ],
      "outputs": [],
      "execution_count": 2,
      "metadata": {
        "collapsed": false
      }
    }
  ],
  "metadata": {
    "kernelspec": {
      "name": "python3",
      "language": "python",
      "display_name": "Python 3 (built-in)"
    },
    "language_info": {
      "name": "python",
      "version": "3.6.2",
      "mimetype": "text/x-python",
      "codemirror_mode": {
        "name": "ipython",
        "version": 3
      },
      "pygments_lexer": "ipython3",
      "nbconvert_exporter": "python",
      "file_extension": ".py"
    },
    "kernel_info": {
      "name": "python3"
    }
  },
  "nbformat": 4,
  "nbformat_minor": 0
}