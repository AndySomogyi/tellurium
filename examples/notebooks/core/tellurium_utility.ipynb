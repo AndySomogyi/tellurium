{
  "cells": [
    {
      "cell_type": "markdown",
      "source": [
        "Back to the main [Index](../index.ipynb)"
      ],
      "metadata": {}
    },
    {
      "cell_type": "markdown",
      "source": [
        "#### Version information\n",
        "\nTellurium's version can be obtained via `te.__version__`. `.printVersionInfo()` also returns information from certain constituent packages."
      ],
      "metadata": {}
    },
    {
      "cell_type": "code",
      "source": [
        "%matplotlib inline\n",
        "from __future__ import print_function\n",
        "import tellurium as te\n",
        "\n",
        "# to get the tellurium version use\n",
        "print('te.__version__')\n",
        "print(te.__version__)\n",
        "# or\n",
        "print('te.getTelluriumVersion()')\n",
        "print(te.getTelluriumVersion())\n",
        "\n",
        "# to print the full version info use\n",
        "print('-' * 80)\n",
        "te.printVersionInfo()\n",
        "print('-' * 80)"
      ],
      "outputs": [],
      "execution_count": 5,
      "metadata": {
        "collapsed": false
      }
    },
    {
      "cell_type": "markdown",
      "source": [
        "#### Repeat simulation without notification"
      ],
      "metadata": {}
    },
    {
      "cell_type": "code",
      "source": [
        "from builtins import range\n",
        "# Load SBML file\n",
        "r = te.loada(\"\"\"\n",
        "model test\n",
        "    J0: X0 -> X1; k1*X0;\n",
        "    X0 = 10; X1=0;\n",
        "    k1 = 0.2\n",
        "end\n",
        "\"\"\")\n",
        "\n",
        "import matplotlib.pyplot as plt\n",
        "\n",
        "# Turn off notices so they don't clutter the output\n",
        "te.noticesOff()\n",
        "for i in range(0, 20):\n",
        "    result = r.simulate (0, 10)\n",
        "    r.reset()\n",
        "    r.plot(result, loc=None, show=False, \n",
        "           linewidth=2.0, linestyle='-', color='black', alpha=0.8)\n",
        "    r.k1 = r.k1 + 0.2\n",
        "# Turn the notices back on\n",
        "te.noticesOn()"
      ],
      "outputs": [],
      "execution_count": 8,
      "metadata": {
        "collapsed": false
      }
    },
    {
      "cell_type": "markdown",
      "source": [
        "#### File helpers for reading and writing"
      ],
      "metadata": {}
    },
    {
      "cell_type": "code",
      "source": [
        "import tellurium as te\n",
        "# create tmp file\n",
        "import tempfile\n",
        "ftmp = tempfile.NamedTemporaryFile(suffix=\".xml\")\n",
        "# load model\n",
        "r = te.loada('S1 -> S2; k1*S1; k1 = 0.1; S1 = 10')\n",
        "# save to file\n",
        "te.saveToFile(ftmp.name, r.getMatlab())\n",
        "\n",
        "# or easier via\n",
        "r.exportToMatlab(ftmp.name)\n",
        "\n",
        "# load file\n",
        "matlabstr = te.readFromFile(ftmp.name)\n",
        "print('%' + '*'*80)\n",
        "print('Converted MATLAB code')\n",
        "print('%' + '*'*80)\n",
        "print(matlabstr[1531:2000])\n",
        "print('...')"
      ],
      "outputs": [],
      "execution_count": 24,
      "metadata": {
        "collapsed": false
      }
    }
  ],
  "metadata": {
    "kernelspec": {
      "name": "python3",
      "language": "python",
      "display_name": "Python 3 (built-in)"
    },
    "language_info": {
      "name": "python",
      "version": "3.6.2",
      "mimetype": "text/x-python",
      "codemirror_mode": {
        "name": "ipython",
        "version": 3
      },
      "pygments_lexer": "ipython3",
      "nbconvert_exporter": "python",
      "file_extension": ".py"
    },
    "kernel_info": {
      "name": "python3"
    }
  },
  "nbformat": 4,
  "nbformat_minor": 0
}